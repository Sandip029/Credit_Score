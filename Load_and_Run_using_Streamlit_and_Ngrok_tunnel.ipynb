{
  "nbformat": 4,
  "nbformat_minor": 0,
  "metadata": {
    "colab": {
      "provenance": []
    },
    "kernelspec": {
      "name": "python3",
      "display_name": "Python 3"
    },
    "language_info": {
      "name": "python"
    }
  },
  "cells": [
    {
      "cell_type": "code",
      "execution_count": 1,
      "metadata": {
        "id": "JWpk9hfd8Cgz"
      },
      "outputs": [],
      "source": [
        "!pip install pyngrok -q"
      ]
    },
    {
      "cell_type": "code",
      "source": [
        "%run '/content/credit_score_prediction.py'"
      ],
      "metadata": {
        "colab": {
          "base_uri": "https://localhost:8080/"
        },
        "id": "_QK4detx9Azz",
        "outputId": "7913f004-476b-4ac1-bbc6-bb36c0d21e52"
      },
      "execution_count": 2,
      "outputs": [
        {
          "output_type": "stream",
          "name": "stderr",
          "text": [
            "Downloading...\n",
            "From: https://drive.google.com/uc?id=1SHSBrl9T7qDoiQThluyfBJyPBg49iz0D\n",
            "To: /content/dataset.csv\n",
            "100%|██████████| 30.2M/30.2M [00:00<00:00, 137MB/s]\n",
            "2024-08-11 10:28:14.572 \n",
            "  \u001b[33m\u001b[1mWarning:\u001b[0m to view this Streamlit app on a browser, run it with the following\n",
            "  command:\n",
            "\n",
            "    streamlit run /content/credit_score_prediction.py [ARGUMENTS]\n",
            "2024-08-11 10:28:14.574 Session state does not function when running a script without `streamlit run`\n"
          ]
        }
      ]
    },
    {
      "cell_type": "code",
      "source": [
        "from pyngrok import ngrok\n",
        "import subprocess\n",
        "\n",
        "ngrok.set_auth_token(\"2jhoNI1jfLmSpnrRlJ3hzjinWOz_6D3Wi4PDE4vVZrsYPRBY\")\n",
        "ngrok_tunnel = ngrok.connect(8501)\n",
        "print(\"Public URL:\", ngrok_tunnel.public_url)\n",
        "\n",
        "subprocess.Popen([\"streamlit\", \"run\", \"credit_score_prediction.py\"])\n",
        "\n",
        "import time\n",
        "try:\n",
        "    while True:\n",
        "        time.sleep(1)\n",
        "except KeyboardInterrupt:\n",
        "    print(\"Ngrok tunnel stopped.\")"
      ],
      "metadata": {
        "colab": {
          "base_uri": "https://localhost:8080/"
        },
        "id": "q0pT_XoJ8a_t",
        "outputId": "b97838fc-7d71-48ff-bdc6-cded22a24fc8"
      },
      "execution_count": 3,
      "outputs": [
        {
          "output_type": "stream",
          "name": "stdout",
          "text": [
            "Public URL: https://17f9-104-199-187-121.ngrok-free.app\n",
            "Ngrok tunnel stopped.\n"
          ]
        }
      ]
    }
  ]
}