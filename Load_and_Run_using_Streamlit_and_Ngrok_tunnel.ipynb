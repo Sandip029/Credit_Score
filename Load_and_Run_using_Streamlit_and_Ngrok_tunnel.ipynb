{
  "nbformat": 4,
  "nbformat_minor": 0,
  "metadata": {
    "colab": {
      "provenance": []
    },
    "kernelspec": {
      "name": "python3",
      "display_name": "Python 3"
    },
    "language_info": {
      "name": "python"
    }
  },
  "cells": [
    {
      "cell_type": "code",
      "execution_count": 1,
      "metadata": {
        "id": "JWpk9hfd8Cgz"
      },
      "outputs": [],
      "source": [
        "!pip install pyngrok -q"
      ]
    },
    {
      "cell_type": "code",
      "source": [
        "import gdown\n",
        "\n",
        "downloaded_file = 'credit_score_prediction.py'\n",
        "gdown.download(f'https://drive.google.com/uc?id=1Tkpcof_dW7wOPrxaSBtdrha7dttfnHPu', downloaded_file, quiet=False)"
      ],
      "metadata": {
        "colab": {
          "base_uri": "https://localhost:8080/",
          "height": 122
        },
        "id": "3-sYJN8e0VE8",
        "outputId": "a7124be8-5382-429b-8a71-b044bb5b8438"
      },
      "execution_count": 2,
      "outputs": [
        {
          "output_type": "stream",
          "name": "stderr",
          "text": [
            "Downloading...\n",
            "From (original): https://drive.google.com/uc?id=1Tkpcof_dW7wOPrxaSBtdrha7dttfnHPu\n",
            "From (redirected): https://drive.google.com/uc?id=1Tkpcof_dW7wOPrxaSBtdrha7dttfnHPu&confirm=t&uuid=5572f4ba-26c3-4608-a932-76fc5ccbb703\n",
            "To: /content/credit_score_prediction.py\n",
            "100%|██████████| 7.28k/7.28k [00:00<00:00, 15.5MB/s]\n"
          ]
        },
        {
          "output_type": "execute_result",
          "data": {
            "text/plain": [
              "'credit_score_prediction.py'"
            ],
            "application/vnd.google.colaboratory.intrinsic+json": {
              "type": "string"
            }
          },
          "metadata": {},
          "execution_count": 2
        }
      ]
    },
    {
      "cell_type": "code",
      "source": [
        "%run '/content/credit_score_prediction.py'"
      ],
      "metadata": {
        "colab": {
          "base_uri": "https://localhost:8080/"
        },
        "id": "_QK4detx9Azz",
        "outputId": "0f180827-38e2-405f-8beb-998e3ecb96b8"
      },
      "execution_count": 3,
      "outputs": [
        {
          "output_type": "stream",
          "name": "stderr",
          "text": [
            "Downloading...\n",
            "From: https://drive.google.com/uc?id=1SHSBrl9T7qDoiQThluyfBJyPBg49iz0D\n",
            "To: /content/dataset.csv\n",
            "100%|██████████| 30.2M/30.2M [00:00<00:00, 104MB/s]\n",
            "2024-08-11 14:26:41.785 \n",
            "  \u001b[33m\u001b[1mWarning:\u001b[0m to view this Streamlit app on a browser, run it with the following\n",
            "  command:\n",
            "\n",
            "    streamlit run /content/credit_score_prediction.py [ARGUMENTS]\n",
            "2024-08-11 14:26:41.789 Session state does not function when running a script without `streamlit run`\n"
          ]
        }
      ]
    },
    {
      "cell_type": "code",
      "source": [
        "from pyngrok import ngrok\n",
        "import subprocess\n",
        "\n",
        "ngrok.set_auth_token(\"2jhoNI1jfLmSpnrRlJ3hzjinWOz_6D3Wi4PDE4vVZrsYPRBY\")\n",
        "ngrok_tunnel = ngrok.connect(8501)\n",
        "print(\"Public URL:\", ngrok_tunnel.public_url)\n",
        "\n",
        "subprocess.Popen([\"streamlit\", \"run\", \"credit_score_prediction.py\"])\n",
        "\n",
        "import time\n",
        "try:\n",
        "    while True:\n",
        "        time.sleep(1)\n",
        "except KeyboardInterrupt:\n",
        "    print(\"Ngrok tunnel stopped.\")"
      ],
      "metadata": {
        "colab": {
          "base_uri": "https://localhost:8080/"
        },
        "id": "q0pT_XoJ8a_t",
        "outputId": "31e5d143-3ab7-4d16-f85a-1ef311c8f943"
      },
      "execution_count": 4,
      "outputs": [
        {
          "output_type": "stream",
          "name": "stdout",
          "text": [
            "Public URL: https://2293-35-190-183-233.ngrok-free.app\n",
            "Ngrok tunnel stopped.\n"
          ]
        }
      ]
    }
  ]
}